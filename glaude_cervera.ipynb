{
 "cells": [
  {
   "cell_type": "markdown",
   "metadata": {
    "deletable": false,
    "editable": false,
    "run_control": {
     "frozen": true
    }
   },
   "source": [
    "# <center> Etude de communautés dans un réseau social</center>\n",
    "<center> SAE 1.01 / 2022 - 23 </center>\n",
    "\n"
   ]
  },
  {
   "cell_type": "markdown",
   "metadata": {
    "deletable": false,
    "editable": false,
    "run_control": {
     "frozen": true
    }
   },
   "source": [
    "Cette SAE est à faire en **binôme**.\n",
    "\n",
    "**Calendrier**\n",
    "- Un contrôle de 2h en lien avec le contenu de cette SAE aura lieu le mercredi **26 octobre** 2022.\n",
    "- Le projet est à rendre le vendredi **28 octobre** 2022. Les modalités de rendu vous seront précisées par votre enseignant.\n",
    "\n",
    "**Evaluation**\n",
    "- Le projet comptera pour 40% de la note de SAE 1.01. <BR>\n",
    "    Il sera particulièrement tenu compte de la qualité du code, des **commentaires** et **docstrings**, des fonctions de **tests unitaires** pour les fonctions renvoyant des résultats. <BR><BR>\n",
    "    \n",
    "- Le contrôle compte pour 60% de la note finale."
   ]
  },
  {
   "cell_type": "markdown",
   "metadata": {
    "deletable": false,
    "editable": false,
    "run_control": {
     "frozen": true
    }
   },
   "source": [
    "## <center> Sujet </center>\n",
    "\n",
    "Une *communauté* est un ensemble de personnes développant des interactions dans un réseau social.\n",
    "\n",
    "Dans ce projet, on étudie des communautés modélisées sous différentes formes. Pour cela, on développe des fonctions permettant d'extraire des informations relatives à ces réseaux. "
   ]
  },
  {
   "cell_type": "markdown",
   "metadata": {
    "deletable": false,
    "editable": false,
    "run_control": {
     "frozen": true
    }
   },
   "source": [
    "On modélise, dans un premier temps, les interactions entre personnes dans un tableau `amis` de chaînes de caractères contenant les prénoms des membres du réseau et tel que `amis[2*i]` a des interactions avec `amis[2*i+1]`.\n",
    "\n",
    "On suppose que chaque interaction n'est décrite qu'une seule fois dans le tableau, et qu'une personne n'a pas d'interaction avec elle-même.\n",
    "\n",
    "**Exemple** : "
   ]
  },
  {
   "cell_type": "code",
   "execution_count": 88,
   "metadata": {
    "deletable": false,
    "editable": false
   },
   "outputs": [],
   "source": [
    "amis = [\"Alice\", \"Bob\", \"Alice\", \"Charlie\", \"Bob\", \"Denis\"]"
   ]
  },
  {
   "cell_type": "markdown",
   "metadata": {
    "deletable": false,
    "editable": false,
    "run_control": {
     "frozen": true
    }
   },
   "source": [
    "Ici, \n",
    "- Alice a des interactions Bob et Charlie, \n",
    "- Bob a des intractions avec Alice et Denis,\n",
    "- Charlie a des interactions avec Alice et\n",
    "- Denis a des interactions avec Bob."
   ]
  },
  {
   "cell_type": "markdown",
   "metadata": {
    "deletable": false,
    "editable": false,
    "run_control": {
     "frozen": true
    }
   },
   "source": [
    "#### Question préliminaire : Modélisation d'un réseau par un tableau\n",
    "\n",
    "Muriel, Yasmine et Joël sont amis. Yasmine est amie avec Thomas. \n",
    "Joël, Nassim, Andrea et Ali sont amis. Thomas est ami de Daria et Carole. Thierry, Axel et Léo sont amis. Léo est ami de Valentin qui est ami d'Andrea.\n",
    "\n",
    "- Construire un tableau `p_amis` qui modélise ce réseau d'amitié en selon le principe qui vient d'être décrit."
   ]
  },
  {
   "cell_type": "code",
   "execution_count": 99,
   "metadata": {},
   "outputs": [
    {
     "name": "stdout",
     "output_type": "stream",
     "text": [
      "Fin\n"
     ]
    }
   ],
   "source": [
    "p_amis = [\"Joël\",\"Muriel\",\"Joël\",\"Yasmine\",\"Joël\",\"Nassim\",\"Joël\",\"Andrea\",\"Joël\",\"Ali\",\"Andrea\",\"Nassim\",\"Andrea\",\"Ali\",\"Andrea\",\"Valentin\",\"Yasmine\",\"Muriel\",\"Yasmine\",\"Thomas\",\"Daria\",\"Thomas\",\"Carole\",\"Thomas\",\"Nassim\",\"Ali\",\"Léo\",\"Thierry\",\"Léo\",\"Axel\",\"Léo\",\"Valentin\",\"Thierry\",\"Axel\"]\n",
    "print(\"Fin\")"
   ]
  },
  {
   "cell_type": "markdown",
   "metadata": {
    "deletable": false,
    "editable": false,
    "run_control": {
     "frozen": true
    }
   },
   "source": [
    "#### Question 1 : Nombre d'amis d'une personne\n",
    "\n",
    "- Étant donné un tableau `amis`, écrire une fonction `nb_amis(amis, prenom)` qui retourne le nombre d'amis de `prenom` à partir des données du tableau `amis`. "
   ]
  },
  {
   "cell_type": "code",
   "execution_count": 106,
   "metadata": {},
   "outputs": [
    {
     "name": "stdout",
     "output_type": "stream",
     "text": [
      "Test de la fonction tab_amis_de_prenom: OK\n",
      "Test de la fonction nb_amis: OK\n",
      "Fin\n"
     ]
    }
   ],
   "source": [
    "#On écrit deux fonctions au lieu d'une seule. \n",
    "#Cela nous permet d'avoir accès au tableau d'amis d'une personne, dont on aura besoin pour les questions suivantes.\n",
    "\n",
    "#Pour l'écrire en une seule fonction, \n",
    "#on doit remplacer le return tab par return len(tab) dans la fonction tab_amis_de_prenom.\n",
    "\n",
    "def tab_amis_de_prenom(amis,prenom) :\n",
    "    \"\"\"\n",
    "    Cette fonction crée et retourne un tableau dans lequel seuls les amis de prenom seront ajoutés.\n",
    "    Les amis de prenom sont amis[i+1] si prenom se trouve sur une case d'indice paire, \n",
    "    et amis[i-1] si prenom est sur une case d'indice impair.\n",
    "    \n",
    "    Arguments:\n",
    "    \n",
    "    * amis: tableau de chaînes de caractères qui modélise les interactions entre personnes, \n",
    "    et qui contient les prénoms des membres du réseau (tableau)\n",
    "    * prenom: prénom de la personne dont on affichera la liste d'amis (chaîne de caractères) \n",
    "    \"\"\"\n",
    "    if len(amis) < 2: #dans le cas où il n'y a pas un seul couple d'amis dans le réseau\n",
    "        return []\n",
    "    i = 0\n",
    "    tab = [] #nouveau tableau \n",
    "    while i < len(amis): #on parcourt le tableau amis des indices 0 à la longueur du tableau -1\n",
    "        if prenom == amis[i] : #si la case amis[i] correspond au prenom passé en paramètre\n",
    "            if i%2 == 0: #si prenom est sur une case paire\n",
    "                tab.append(amis[i+1]) #ajouter dans tab la personne se trouvant à droite de prenom\n",
    "            else : #si prenom est sur une case impaire\n",
    "                tab.append(amis[i-1]) #ajouter dans tab la personne à gauche de prenom\n",
    "        i += 1\n",
    "    return tab #retourne le tableau des amis de prenom\n",
    "\n",
    "def nb_amis(amis, prenom) :\n",
    "    \"\"\"\n",
    "    Cette fonction retourne le nombre d'amis que prenom a dans le tableau amis\n",
    "    \n",
    "    Arguments:\n",
    "    \n",
    "    * amis: tableau de chaînes de caractères qui modélise les interactions entre personnes, \n",
    "    et qui contient les prénoms des membres du réseau (tableau)\n",
    "    * prenom: prénom de la personne dont on affichera la liste d'amis (chaîne de caractères) \n",
    "    \"\"\"\n",
    "    return len(tab_amis_de_prenom(amis,prenom)) #on utilise la fonction tab_amis_de_prenom pour compter le nombre d'amis de prenom\n",
    "\n",
    "#Tests unitaires:\n",
    "\n",
    "amis = [\"Alice\", \"Bob\", \"Alice\", \"Charlie\", \"Bob\", \"Denis\"]\n",
    "p_amis = [\"Joël\",\"Muriel\",\"Joël\",\"Yasmine\",\"Joël\",\"Nassim\",\"Joël\",\"Andrea\",\"Joël\",\"Ali\",\"Andrea\",\"Nassim\",\"Andrea\",\"Ali\",\"Andrea\",\"Valentin\",\"Yasmine\",\"Muriel\",\"Yasmine\",\"Thomas\",\"Daria\",\"Thomas\",\"Carole\",\"Thomas\",\"Nassim\",\"Ali\",\"Léo\",\"Thierry\",\"Léo\",\"Axel\",\"Léo\",\"Valentin\",\"Thierry\",\"Axel\"]\n",
    "\n",
    "def test_tab_amis_de_prenom():\n",
    "    assert tab_amis_de_prenom(amis, \"Alice\") == [\"Bob\", \"Charlie\"]\n",
    "    assert tab_amis_de_prenom(p_amis, \"Andrea\") == [\"Joël\", \"Nassim\", \"Ali\", \"Valentin\"]\n",
    "    assert tab_amis_de_prenom(amis, \"Denis\") == [\"Bob\"]\n",
    "    assert tab_amis_de_prenom([\"Alice\"], \"Alice\") == []\n",
    "    assert tab_amis_de_prenom(amis, \"Andrea\") == []\n",
    "    print(\"Test de la fonction tab_amis_de_prenom: OK\")\n",
    "test_tab_amis_de_prenom() #Appel de la fonction de test de tab_amis_de_prenom\n",
    "\n",
    "def test_nb_amis():\n",
    "    assert nb_amis(amis, \"Alice\") == 2\n",
    "    assert nb_amis(p_amis, \"Joël\") == 5\n",
    "    assert nb_amis(amis, \"Joël\") == 0\n",
    "    assert nb_amis([\"Alice\"], \"Alice\") == 0\n",
    "    print(\"Test de la fonction nb_amis: OK\")\n",
    "test_nb_amis() #Appel de la fonction de test de nb_amis\n",
    "\n",
    "print(\"Fin\")"
   ]
  },
  {
   "cell_type": "markdown",
   "metadata": {
    "deletable": false,
    "editable": false,
    "run_control": {
     "frozen": true
    }
   },
   "source": [
    "#### Question 2 : Nombre de membres d'un réseau social \n",
    "\n",
    "- Ecrire une fonction `taille_reseau(amis)` qui à partir d'un tableau `amis`retourne le nombre de personnes distinctes participant à ce réseau social."
   ]
  },
  {
   "cell_type": "code",
   "execution_count": 107,
   "metadata": {},
   "outputs": [
    {
     "name": "stdout",
     "output_type": "stream",
     "text": [
      "Test de tab_reseau:OK\n",
      "Test de taille_reseau:OK\n",
      "Fin\n"
     ]
    }
   ],
   "source": [
    "#De la même façon que dans la question 1, nous créons 2 fonctions au lieu d'une.\n",
    "#La première nous permet d'avoir un tableau, et la seconde nous donne la longueur du tableau créé.\n",
    "\n",
    "#On aurait pu remplacer return list(dico_amis) par return len(list(dico_amis)) dans la fonction tab_reseau, \n",
    "#pour en faire une seule. \n",
    "def tab_reseau(amis):\n",
    "    \"\"\"\n",
    "    Cette fonction retourne le tableau des personnes distinctes du tableau amis.\n",
    "    \n",
    "    Arguments:\n",
    "    \n",
    "    * amis: tableau de chaînes de caractères qui modélise les interactions entre personnes, \n",
    "    et qui contient les prénoms des membres du réseau (tableau)\n",
    "    \"\"\"\n",
    "    dico_amis = {} #On crée un dictionnaire\n",
    "    i = 0\n",
    "    while i < len(amis): #On parcourt le tableau amis\n",
    "        dico_amis[amis[i]] = None #Chaque case du tableau est ajoutée dans dico_amis\n",
    "                                #Si on tombe sur un prénom déjà dans le dictionnaire,\n",
    "                                #l'ancienne valeur est remplacée par la nouvelle,\n",
    "                                # et aucune clé n'est ajoutée, ce qui empêche les doublons.\n",
    "        i += 1\n",
    "    return list(dico_amis) #Retourne le tableau des clés de dico_amis\n",
    "\n",
    "def taille_reseau(amis):\n",
    "    \"\"\"\n",
    "    Cette fonction retourne le nombre de personnes distinctes dans le tableau amis.\n",
    "    \n",
    "    Arguments:\n",
    "    \n",
    "    * amis: tableau de chaînes de caractères qui modélise les interactions entre personnes, \n",
    "    et qui contient les prénoms des membres du réseau (tableau)\n",
    "    \"\"\"\n",
    "    return len(tab_reseau(amis))  #On utilise le tableau créé par la fonction tab_reseau \n",
    "                                #pour connaître la longueur voulue\n",
    "\n",
    "\n",
    "#Tests unitaires:\n",
    "\n",
    "amis = [\"Alice\", \"Bob\", \"Alice\", \"Charlie\", \"Bob\", \"Denis\"]\n",
    "p_amis = [\"Joël\",\"Muriel\",\"Joël\",\"Yasmine\",\"Joël\",\"Nassim\",\"Joël\",\"Andrea\",\"Joël\",\"Ali\",\"Andrea\",\"Nassim\",\"Andrea\",\"Ali\",\"Andrea\",\"Valentin\",\"Yasmine\",\"Muriel\",\"Yasmine\",\"Thomas\",\"Daria\",\"Thomas\",\"Carole\",\"Thomas\",\"Nassim\",\"Ali\",\"Léo\",\"Thierry\",\"Léo\",\"Axel\",\"Léo\",\"Valentin\",\"Thierry\",\"Axel\"]\n",
    "\n",
    "def test_tab_reseau():\n",
    "    assert tab_reseau(amis) == ['Alice', 'Bob', 'Charlie', 'Denis']\n",
    "    assert tab_reseau(p_amis) == [\"Joël\", \"Muriel\", \"Yasmine\", \"Nassim\", \"Andrea\", \"Ali\", \"Valentin\", \"Thomas\", \"Daria\", \"Carole\", \"Léo\", \"Thierry\", \"Axel\"]\n",
    "    assert tab_reseau([\"Alice\", \"Alice\", \"Joël\"]) == [\"Alice\", \"Joël\"]\n",
    "    assert tab_reseau([]) == []\n",
    "    print(\"Test de tab_reseau:OK\")\n",
    "test_tab_reseau() #Appel de la fonction de test de tab_reseau\n",
    "\n",
    "def test_taille_reseau():\n",
    "    assert taille_reseau(amis) == 4\n",
    "    assert taille_reseau(p_amis) == 13\n",
    "    assert taille_reseau([]) == 0\n",
    "    print(\"Test de taille_reseau:OK\")\n",
    "test_taille_reseau() #Appel de la fonction de test de taille_reseau\n",
    "\n",
    "print(\"Fin\")"
   ]
  },
  {
   "cell_type": "markdown",
   "metadata": {
    "deletable": false,
    "editable": false,
    "run_control": {
     "frozen": true
    }
   },
   "source": [
    "#### Question 3 :  Lecture des données d'un réseau à partir d'un fichier\n",
    "On suppose que les données sur un réseau social sont stockées dans un fichier CSV de la manière suivante :\n",
    "```\n",
    "prenom1;prenom2\n",
    "prenom3;prenom4\n",
    "prenom5;prenom6\n",
    "...\n",
    "```\n",
    "Autrement dit, chaque ligne du fichier contient une paire de prénoms séparés par un `';'` correspondant à deux personnes ayant des interactions. \n",
    "\n",
    "**NB** : Quatre fichiers CSV de ce type sont fournis dans le répertoire `files/`, il s'agit des fichiers`Communaute1.csv`, `Communaute2.csv`,`Communaute3.csv` et `Communaute4.csv`. \n",
    "Il est recommandé d'en fabriquer d'autres. \n",
    "\n",
    "- Ecrire une fonction `lecture_reseau(path)` prenant en paramètre un chemin vers un tel fichier CSV et retournant un tableau modélisant les interactions entre les personnes du fichier."
   ]
  },
  {
   "cell_type": "code",
   "execution_count": 108,
   "metadata": {},
   "outputs": [
    {
     "name": "stdout",
     "output_type": "stream",
     "text": [
      "Test de lecture_reseau: OK\n",
      "Fin\n"
     ]
    }
   ],
   "source": [
    "def lecture_reseau(path):\n",
    "    \"\"\"\n",
    "    Cette fonction retourne un tableau modélisant \n",
    "    les interactions entre les personnes du fichier dont le chemin est passé en paramètre\n",
    "    \n",
    "    Arguments:\n",
    "    \n",
    "    * path: le chemin d'accès au fichier dont on veut extraire les données (chaîne de caractères)\n",
    "    \"\"\"\n",
    "    f = open(path, 'r') #On ouvre le fichier en mode lecture\n",
    "    tab = [] #On crée un tableau\n",
    "    ligne = f.readline() #On extrait une ligne du fichier, qui est une chaine de caractères\n",
    "    while ligne != \"\": #On parcourt toutes les lignes du fichier, une par une\n",
    "        ligne = ligne.split(';') #ligne devient un tableau \n",
    "                                #dont chaque case correspond au prénom 1 \n",
    "                                #précédemment séparé de prénom 2 par ';'\n",
    "        tab.append(ligne[0])    #On ajoute le premier prénom à tab\n",
    "        tab.append(ligne[1].strip()) #On ajoute le deuxième prénom à tab,\n",
    "                                    #en supprimant les '\\n' et espaces d'extrémités\n",
    "            \n",
    "        ligne = f.readline() #On passe à la ligne suivante\n",
    "    f.close() #On ferme le fichier\n",
    "    return tab\n",
    "\n",
    "#Tests unitaires:\n",
    "\n",
    "amis = [\"Alice\", \"Bob\", \"Alice\", \"Charlie\", \"Bob\", \"Denis\"]\n",
    "\n",
    "def test_lecture_reseau():\n",
    "    assert lecture_reseau(\"newfiles/Communaute1.csv\") == ['Barbra', 'Cloe', 'Louis', 'Rufino', 'Idelle', 'Mady', 'Björn', 'Giedrius', 'Cloe', 'Glenys', 'Barbra', 'Vittorio', 'Mady', 'Rufino', 'Barbra', 'Marwa', 'Cloe', 'Louis', 'Björn', 'Faizel', 'Giedrius', 'Rufino', 'Mady', 'Vittore', 'Giedrius', 'Louis', 'Cloe', 'Placide', 'Cloe', 'Teodor', 'Kirsa', 'Vittorio', 'Idelle', 'Marwa', 'Placide', 'Rufino', 'Giedrius', 'Illtyd', 'Björn', 'Cloe', 'Björn', 'Rufino', 'Louis', 'Placide', 'Barbra', 'Rufino', 'Louis', 'Vittorio', 'Olavi', 'Placide', 'Rufino', 'Teodor', 'Louis', 'Olavi', 'Faizel', 'Rufino', 'Olavi', 'Vittorio', 'Barbra', 'Louis', 'Placide', 'Vittorio', 'Barbra', 'Kirsa', 'Illtyd', 'Rufino', 'Jakob', 'Mady', 'Barbra', 'Vittore', 'Björn', 'Idelle', 'Cloe', 'Vittore', 'Olavi', 'Teodor', 'Jakob', 'Placide', 'Cain', 'Vittorio', 'Barbra', 'Faizel', 'Giedrius', 'Mady', 'Kirsa', 'Vittore', 'Barbra', 'Mady', 'Jakob', 'Kirsa', 'Björn', 'Mady', 'Björn', 'Teodor', 'Cloe', 'Vittorio', 'Illtyd', 'Olavi', 'Olavi', 'Rufino', 'Giedrius', 'Glenys', 'Rufino', 'Vittorio', 'Björn', 'Olavi', 'Björn', 'Louis', 'Louis', 'Vittore', 'Mady', 'Teodor', 'Vittore', 'Vittorio', 'Faizel', 'Placide', 'Cloe', 'Mady', 'Cain', 'Placide', 'Mady', 'Vittorio', 'Cloe', 'Idelle', 'Mady', 'Placide', 'Giedrius', 'Vittorio', 'Faizel', 'Olavi', 'Björn', 'Vittore', 'Idelle', 'Illtyd', 'Barbra', 'Olavi']\n",
    "    assert lecture_reseau(\"newfiles/Communaute2.csv\") == ['Mady', 'Zayneb', 'Honorata', 'Iagan', 'Cain', 'Satchel', 'Honorata', 'Petru', 'Damhnait', 'Áron', 'Aimee', 'Kirsa', 'Chatzkel', 'Liesa', 'Idelle', 'Keith', 'Lizzy', 'Vittorio', 'Gaétan', 'Salomão', 'Björn', 'Grwn', 'Amadeo', 'Cloe', 'Grwn', 'Pavao', 'Hagir', 'Ramsay', 'Gaétan', 'Liesa', 'Damhnait', 'Vittore', 'Hagir', 'Imane', 'Dragan', 'Mireille', 'Despoina', 'Gawel', 'Phuong', 'Ramsay', 'Argus', 'Dragan', 'Cameron', 'Mélanie', 'Barbra', 'Louis', 'Lujayn', 'Séléna', 'Dragan', 'Évike', 'Barbra', 'Dragan', 'Barbra', 'Glenys', 'Sabino', 'Shayla', 'Bridger', 'Glenys', 'Honorata', 'Mireille', 'Duff', 'Ixchel', 'Cloe', 'Louis', 'Olavi', 'Vibol', 'Christ', 'Gaétan', 'Duff', 'Ramsay', 'Mireille', 'Phuong', 'Gergõ', 'Glenys', 'Pavao', 'Yassin', 'Lizzy', 'Mélanie', 'Despoina', 'Marwa', 'Illtyd', 'Lizzy', 'Finn', 'Placide', 'Giedrius', 'Vibol', 'Gawel', 'Iagan', 'Despoina', 'Stéphanie', 'Howell', 'Olavi', 'Keld', 'Mady', 'Montserrat', 'Silviu', 'Ixchel', 'Shayla', 'Grwn', 'Illtyd', 'Louis', 'Placide', 'Chatzkel', 'Shirine', 'Iagan', 'Phuong', 'Amadeo', 'Glenys', 'Jakob', 'Lizzy', 'Cain', 'Gawel', 'Keld', 'Lalie', 'Draco', 'Gawel', 'Imane', 'Ixchel', 'Hagir', 'Pavao', 'Aliya', 'Zayneb', 'Gaétan', 'Olavi', 'Argus', 'Satchel', 'Imane', 'Ágoston', 'Lizzy', 'Shayla', 'Glenys', 'Séléna', 'Cain', 'Olavi', 'Dragan', 'Imane', 'Edmonda', 'Sabino', 'Marwa', 'Séléna', 'Liesa', 'Marwa', 'Hagir', 'Simo', 'Ambrogio', 'Gaétan', 'Aimee', 'Honorata', 'Naheed', 'Shayla', 'Amadeo', 'Damhnait', 'Dany', 'Mady', 'Björn', 'Évike', 'Dragan', 'Salomão', 'Björn', 'Vittore', 'Petru', 'Shayla', 'Aliya', 'Áron', 'Eliezer', 'Glenys', 'Christ', 'Gawel', 'Kirsa', 'Papillion', 'Gaétan', 'Sabino', 'Björn', 'Dany', 'Barbra', 'Christ', 'Christ', 'Vibol', 'Jakob', 'Ziva', 'Glenys', 'Imane', 'Christ', 'Dany', 'Gergõ', 'Édouard', 'Barbra', 'Natasa', 'Emmy', 'Stéphanie', 'Christ', 'Iagan', 'Björn', 'Gergõ', 'Lalie', 'Salomão', 'Aimee', 'Imane', 'Gordon', 'Natasa', 'Ixchel', 'Menashe', 'Aimee', 'Menashe', 'Argus', 'Duff', 'Draco', 'Gordon', 'Amadeo', 'Phuong', 'Gawel', 'Évike', 'Aimee', 'Finn', 'Silviu', 'Stéphanie', 'Christ', 'Vittore', 'Iagan', 'Pavao', 'Keith', 'Naheed', 'Barbra', 'Grwn', 'Cloe', 'Illtyd', 'Glenys', 'Idelle', 'Damhnait', 'Placide', 'Mady', 'Placide', 'Edmonda', 'Epaphroditos', 'Draco', 'Epaphroditos', 'Chatzkel', 'Keith', 'Emmy', 'Griffith', 'Gawel', 'Gaétan', 'Jacaline', 'Keld', 'Menashe', 'Placide', 'Faizel', 'Imane', 'Keld', 'Mélanie', 'Emmy', 'Imane', 'Björn', 'Illtyd', 'Olavi', 'Petru', 'Finn', 'Lujayn', 'Gordon', 'Ixchel', 'Pavao', 'Ziva', 'Dragan', 'Edmonda', 'Cloe', 'Liesa', 'Ziva', 'Áron', 'Lalie', 'Silviu', 'Cowal', 'Edmonda', 'Jakob', 'Vittorio', 'Damhnait', 'Gawel', 'Faizel', 'Lizzy', 'Cardea', 'Séverin', 'Ixchel', 'Séléna', 'Christ', 'Séléna', 'Duff', 'Grwn', 'Ramsay', 'Vibol', 'Petru', 'Phuong', 'Amadeo', 'Faizel', 'Ambrogio', 'Petru', 'Lujayn', 'Rufino', 'Jari', 'Lizzy', 'Honorata', 'Menashe', 'Kirsa', 'Petru', 'Dany', 'Pavao', 'Phuong', 'Vittorio', 'Pavao', 'Vittore', 'Lujayn', 'Silviu', 'Emmy', 'Shirine', 'Chatzkel', 'Dany', 'Glenys', 'Zayneb', 'Imane', 'Simo', 'Gordon', 'Séléna', 'Idelle', 'Imane', 'Argus', 'Epaphroditos', 'Amadeo', 'Draco', 'Dragan', 'Keith', 'Ixchel', 'Mireille', 'Eliezer', 'Ágoston', 'Dany', 'Vittore', 'Petru', 'Sabino', 'Rufino', 'Vittorio', 'Keith', 'Sabino', 'Natasa', 'Papillion', 'Edmonda', 'Natasa', 'Isolde', 'Lizzy', 'Duff', 'Glenys', 'Spiridon', 'Édouard', 'Dany', 'Draco', 'Ambrogio', 'Faizel', 'Mady', 'Yassin', 'Cain', 'Hagir', 'Iagan', 'Stéphanie', 'Cain', 'Vibol', 'Epaphroditos', 'Gaétan', 'Christ', 'Glenys', 'Aïcha', 'Dragan', 'Aïcha', 'Isolde', 'Menashe', 'Shirine', 'Aïcha', 'Epaphroditos', 'Aïcha', 'Gawel', 'Chatzkel', 'Kirsa', 'Glenys', 'Jakob', 'Björn', 'Honorata', 'Mélanie', 'Placide', 'Ilies', 'Séverin', 'Gergõ', 'Gordon', 'Aimee', 'Louis', 'Idelle', 'Natasa', 'Ambrogio', 'Liesa', 'Kirsa', 'Olavi', 'Gawel', 'Hagir', 'Mady', 'Séléna', 'Cain', 'Papillion', 'Mireille', 'Salomão', 'Ilies', 'Petru', 'Epaphroditos', 'Glenys', 'Cain', 'Dragan', 'Cain', 'Epaphroditos', 'Mireille', 'Stéphanie', 'Bridger', 'Mireille', 'Séléna', 'Vittore', 'Aimee', 'Spiridon', 'Amadeo', 'Ambrogio', 'Argus', 'Évike', 'Liesa', 'Pavao', 'Lizzy', 'Salomão', 'Emmy', 'Évike', 'Gordon', 'Illtyd', 'Dragan', 'Vibol', 'Illtyd', 'Salomão', 'Edmonda', 'Liesa', 'Mady', 'Natasa', 'Gawel', 'Papillion', 'Aimee', 'Lujayn', 'Cain', 'Séléna', 'Glenys', 'Keld', 'Faizel', 'Áron', 'Björn', 'Silviu', 'Ambrogio', 'Placide', 'Houda', 'Shirine', 'Aïcha', 'Olavi', 'Placide', 'Shayla', 'Barbra', 'Vittore', 'Dragan', 'Satchel', 'Illtyd', 'Louis', 'Menashe', 'Spiridon', 'Barbra', 'Évike', 'Iagan', 'Zayneb', 'Argus', 'Papillion', 'Gawel', 'Olavi', 'Emmy', 'Áron', 'Aimee', 'Howell', 'Placide', 'Vibol', 'Petru', 'Silviu', 'Cain', 'Mady', 'Epaphroditos', 'Mireille', 'Dany', 'Montserrat', 'Chatzkel', 'Emmy', 'Damhnait', 'Ágoston', 'Petru', 'Ziva', 'Dragan', 'Emmy', 'Olavi', 'Séléna', 'Lilas', 'Mady', 'Faizel', 'Papillion', 'Hagir', 'Mireille', 'Chatzkel', 'Draco', 'Bridger', 'Dany', 'Faizel', 'Spiridon', 'Chatzkel', 'Shayla', 'Ambrogio', 'Aïcha', 'Faizel', 'Ziva', 'Argus', 'Ramsay', 'Chatzkel', 'Zayneb', 'Barbra', 'Idelle', 'Lujayn', 'Spiridon', 'Draco', 'Rufino', 'Damhnait', 'Grwn', 'Jacaline', 'Séléna', 'Dragan', 'Petru', 'Grwn', 'Mady', 'Menashe', 'Vittorio', 'Nolann', 'Placide', 'Finn', 'Séléna', 'Placide', 'Vittorio', 'Damhnait', 'Séléna', 'Menashe', 'Séléna', 'Idelle', 'Vittorio', 'Mélanie', 'Salomão', 'Nazim', 'Évike', 'Bridger', 'Shayla', 'Christ', 'Jari', 'Mady', 'Petru', 'Kirsa', 'Sabino', 'Lizzy', 'Ágoston', 'Draco', 'Montserrat', 'Vittore', 'Édouard', 'Christ', 'Grwn', 'Lalie', 'Vibol', 'Keld', 'Vittore', 'Grwn', 'Liesa', 'Draco', 'Séverin', 'Finn', 'Shayla', 'Cloe', 'Pavao', 'Imane', 'Placide', 'Mélanie', 'Shirine', 'Dany', 'Papillion', 'Iagan', 'Nolann', 'Barbra', 'Illtyd', 'Hagir', 'Ixchel', 'Christ', 'Ilies', 'Christ', 'Silviu', 'Hagir', 'Silviu', 'Faizel', 'Keld', 'Cowal', 'Honorata', 'Iagan', 'Vittore', 'Gaétan', 'Pavao', 'Phuong', 'Ziva', 'Christ', 'Évike', 'Emmy', 'Epaphroditos', 'Gaétan', 'Évike', 'Silviu', 'Vibol', 'Edmonda', 'Séléna', 'Mireille', 'Évike', 'Finn', 'Shirine', 'Damhnait', 'Ixchel', 'Nazim', 'Zayneb', 'Silviu', 'Spiridon', 'Björn', 'Gordon', 'Bridger', 'Olavi', 'Amadeo', 'Duff', 'Damhnait', 'Draco', 'Ambrogio', 'Howell', 'Dany', 'Ágoston', 'Petru', 'Vittore', 'Honorata', 'Imane', 'Christ', 'Édouard', 'Jakob', 'Édouard', 'Björn', 'Iagan', 'Idelle', 'Pavao', 'Illtyd', 'Shayla', 'Montserrat', 'Mélanie', 'Gaétan', 'Keld', 'Pavao', 'Spiridon', 'Damhnait', 'Jakob', 'Aïcha', 'Shayla', 'Chatzkel', 'Howell', 'Ixchel', 'Jakob', 'Amadeo', 'Mélanie', 'Louis', 'Petru', 'Barbra', 'Iagan', 'Edmonda', 'Eliezer', 'Glenys', 'Lujayn', 'Imane', 'Stéphanie', 'Montserrat', 'Simo', 'Cain', 'Silviu', 'Keith', 'Kirsa', 'Idelle', 'Mireille', 'Lizzy', 'Vittore', 'Houda', 'Évike', 'Cain', 'Petru', 'Chatzkel', 'Édouard', 'Gergõ', 'Howell', 'Faizel', 'Lalie', 'Sabino', 'Vittorio', 'Cain', 'Jari', 'Epaphroditos', 'Howell', 'Louis', 'Évike', 'Jakob', 'Louis', 'Amadeo', 'Dragan', 'Silviu', 'Simo', 'Duff', 'Epaphroditos', 'Lizzy', 'Vibol', 'Dragan', 'Iagan', 'Lalie', 'Sabino', 'Aïcha', 'Lizzy', 'Hagir', 'Sabino', 'Ambrogio', 'Lalie', 'Edmonda', 'Menashe', 'Mélanie', 'Vittore', 'Bridger', 'Vibol', 'Louis', 'Naheed', 'Amadeo', 'Aïcha', 'Amadeo', 'Natasa', 'Björn', 'Séléna', 'Cameron', 'Dany', 'Gawel', 'Menashe', 'Aimee', 'Salomão', 'Natasa', 'Évike', 'Chatzkel', 'Giedrius', 'Placide', 'Áron', 'Olavi', 'Vittorio', 'Isolde', 'Mady', 'Imane', 'Mady', 'Gordon', 'Vibol', 'Duff', 'Silviu', 'Cowal', 'Jakob', 'Jakob', 'Olavi', 'Imane', 'Phuong', 'Aimee', 'Lalie', 'Argus', 'Howell', 'Lujayn', 'Shirine', 'Gaétan', 'Édouard', 'Argus', 'Edmonda', 'Kirsa', 'Áron', 'Draco', 'Ixchel', 'Illtyd', 'Phuong', 'Barbra', 'Mireille', 'Ambrogio', 'Yassin', 'Damhnait', 'Lizzy', 'Illtyd', 'Spiridon', 'Ixchel', 'Liesa', 'Áron', 'Évike', 'Aimee', 'Emmy', 'Cloe', 'Hagir', 'Bridger', 'Duff', 'Sabino', 'Teodor', 'Epaphroditos', 'Faizel', 'Faizel', 'Gergõ', 'Iagan', 'Liesa', 'Cloe', 'Ixchel', 'Epaphroditos', 'Vibol', 'Dragan', 'Stéphanie', 'Ambrogio', 'Pavao', 'Damhnait', 'Ziva', 'Chatzkel', 'Hagir', 'Cameron', 'Hagir', 'Lilas', 'Lujayn', 'Gaétan', 'Vibol', 'Howell', 'Lalie', 'Hagir', 'Olavi', 'Olavi', 'Édouard', 'Duff', 'Illtyd', 'Gawel', 'Imane', 'Honorata', 'Howell', 'Keith', 'Phuong', 'Faizel', 'Rufino', 'Chatzkel', 'Gordon', 'Duff', 'Olavi', 'Ixchel', 'Teodor', 'Howell', 'Papillion', 'Epaphroditos', 'Gergõ', 'Cloe', 'Glenys', 'Mireille', 'Ágoston', 'Gawel', 'Rufino', 'Aliya', 'Nazim', 'Isolde', 'Shayla', 'Papillion', 'Sabino', 'Barbra', 'Mélanie', 'Aimee', 'Cowal', 'Keith', 'Pavao', 'Eliezer', 'Montserrat', 'Honorata', 'Papillion', 'Björn', 'Imane', 'Cain', 'Dany', 'Imane', 'Mélanie', 'Christ', 'Dragan', 'Emmy', 'Lalie', 'Papillion', 'Évike', 'Cain', 'Vittorio', 'Jari', 'Montserrat', 'Satchel', 'Évike', 'Honorata', 'Áron', 'Kirsa', 'Mireille', 'Cameron', 'Pavao', 'Isolde', 'Petru', 'Cardea', 'Áron', 'Jakob', 'Silviu', 'Cain', 'Lizzy', 'Despoina', 'Mady', 'Aliya', 'Christ', 'Olavi', 'Áron', 'Montserrat', 'Shayla', 'Gergõ', 'Jari', 'Spiridon', 'Séléna', 'Lujayn', 'Olavi', 'Lizzy', 'Rufino', 'Ixchel', 'Petru', 'Dany', 'Vibol', 'Jakob', 'Ramsay', 'Faizel', 'Yassin', 'Hagir', 'Kirsa', 'Phuong', 'Vittore', 'Glenys', 'Isolde', 'Montserrat', 'Édouard', 'Björn', 'Rufino', 'Keith', 'Rufino', 'Grwn', 'Satchel', 'Amadeo', 'Sevan', 'Faizel', 'Finn', 'Silviu', 'Séléna', 'Gordon', 'Évike', 'Barbra', 'Duff', 'Glenys', 'Iagan', 'Louis', 'Pavao', 'Mady', 'Mireille', 'Bridger', 'Montserrat', 'Honorata', 'Pavao', 'Ixchel', 'Placide', 'Keith', 'Stéphanie', 'Faizel', 'Illtyd', 'Dragan', 'Nazim', 'Satchel', 'Silviu', 'Grwn', 'Mireille', 'Liesa', 'Salomão', 'Liesa', 'Petru', 'Cain', 'Salomão', 'Cain', 'Mélanie', 'Jari', 'Sabino', 'Chatzkel', 'Gawel', 'Keith', 'Séverin', 'Barbra', 'Áron', 'Iagan', 'Jakob', 'Ambrogio', 'Papillion', 'Damhnait', 'Papillion', 'Gawel', 'Lizzy', 'Aimee', 'Epaphroditos', 'Aïcha', 'Yassin', 'Idelle', 'Naheed', 'Liesa', 'Vibol', 'Placide', 'Séléna', 'Aimee', 'Keith', 'Gergõ', 'Lizzy', 'Damhnait', 'Sevan', 'Emmy', 'Papillion', 'Mireille', 'Rufino', 'Iagan', 'Silviu', 'Finn', 'Liesa', 'Chatzkel', 'Damhnait', 'Gordon', 'Lujayn', 'Amadeo', 'Évike', 'Griffith', 'Phuong', 'Olavi', 'Shirine', 'Duff', 'Rufino', 'Duff', 'Placide', 'Ilies', 'Placide']\n",
    "    \n",
    "    #Création d'un nouveau fichier:\n",
    "    f = open(\"newfiles/Test3.csv\", 'w')\n",
    "    f.write(\"Alice;Bob\\nAlice;Charlie\\nBob;Denis\\n\")\n",
    "    f.close()\n",
    "    \n",
    "    assert lecture_reseau(\"newfiles/Test3.csv\") == amis\n",
    "    print(\"Test de lecture_reseau: OK\")\n",
    "test_lecture_reseau() #Appel de la fonction qui test lecture_reseau\n",
    "\n",
    "print(\"Fin\")"
   ]
  },
  {
   "cell_type": "markdown",
   "metadata": {
    "deletable": false,
    "editable": false,
    "run_control": {
     "frozen": true
    }
   },
   "source": [
    "#### Question 4 : Modélisation d'un réseau par un dictionnaire\n",
    "On préfère pour la suite, utiliser une modélisation du réseau social par un dictionnaire dont où les clés sont les prénoms des personnes du réseau et la valeur associé à une clé est le tableau des amis de la personne indiquée par la clé.\n",
    "\n",
    "- A partir d'un tableau `amis` modélisant les interactions entre personnes d'un réseau, écrire une fonction `dico_reseau(amis)` qui retourne un dictionnaire dont les clés sont les prénoms des membres du réseau et les valeurs le tableau de leurs amis."
   ]
  },
  {
   "cell_type": "code",
   "execution_count": 112,
   "metadata": {},
   "outputs": [
    {
     "name": "stdout",
     "output_type": "stream",
     "text": [
      "Test de la fonction dico_reseau: OK\n",
      "Fin\n"
     ]
    }
   ],
   "source": [
    "def dico_reseau(amis):\n",
    "    \"\"\"\n",
    "    Cette fonction retourne un dictionnaire dont les clés sont les prénoms des membres du réseau amis \n",
    "    et les valeurs sont le tableau d'amis de chaque prénom\n",
    "    \n",
    "    Arguments:\n",
    "    \n",
    "    * amis: tableau de chaînes de caractères qui modélise les interactions entre personnes, \n",
    "    et qui contient les prénoms des membres du réseau (tableau)\n",
    "    \"\"\"\n",
    "    dico = {} #Création d'un dictionnaire\n",
    "    liste_prenoms = tab_reseau(amis) #Appel de la fonction tab_reseau pour obtenir les prénoms distincts du reseau\n",
    "    i = 0\n",
    "    while i < len(liste_prenoms): #On parcourt liste_prenoms\n",
    "        dico[liste_prenoms[i]] = tab_amis_de_prenom(amis, liste_prenoms[i]) #On ajoute un prénom comme clé et \n",
    "                                                                    #le tableau d'amis de ce prénom comme valeur \n",
    "                                                                    #dans le dictionnaire dico, en appelant tab_nb_amis\n",
    "        i += 1\n",
    "    return dico #On retourne le dictionnaire obtenu\n",
    "\n",
    "#Tests unitaires:\n",
    "\n",
    "amis = [\"Alice\", \"Bob\", \"Alice\", \"Charlie\", \"Bob\", \"Denis\"]\n",
    "p_amis = [\"Joël\",\"Muriel\",\"Joël\",\"Yasmine\",\"Joël\",\"Nassim\",\"Joël\",\"Andrea\",\"Joël\",\"Ali\",\"Andrea\",\"Nassim\",\"Andrea\",\"Ali\",\"Andrea\",\"Valentin\",\"Yasmine\",\"Muriel\",\"Yasmine\",\"Thomas\",\"Daria\",\"Thomas\",\"Carole\",\"Thomas\",\"Nassim\",\"Ali\",\"Léo\",\"Thierry\",\"Léo\",\"Axel\",\"Léo\",\"Valentin\",\"Thierry\",\"Axel\"]\n",
    "\n",
    "def test_dico_reseau():\n",
    "    assert dico_reseau(amis) == {'Alice': ['Bob', 'Charlie'], 'Bob': ['Alice', 'Denis'], 'Charlie': ['Alice'], 'Denis': ['Bob']}\n",
    "    assert dico_reseau(p_amis) == {'Joël': ['Muriel', 'Yasmine', 'Nassim', 'Andrea', 'Ali'], 'Muriel': ['Joël', 'Yasmine'], 'Yasmine': ['Joël', 'Muriel', 'Thomas'], 'Nassim': ['Joël', 'Andrea', 'Ali'], 'Andrea': ['Joël', 'Nassim', 'Ali', 'Valentin'], 'Ali': ['Joël', 'Andrea', 'Nassim'], 'Valentin': ['Andrea', 'Léo'], 'Thomas': ['Yasmine', 'Daria', 'Carole'], 'Daria': ['Thomas'], 'Carole': ['Thomas'], 'Léo': ['Thierry', 'Axel', 'Valentin'], 'Thierry': ['Léo', 'Axel'], 'Axel': ['Léo', 'Thierry']}\n",
    "    assert dico_reseau([\"Joël\"]) == {\"Joël\":[]}\n",
    "    assert dico_reseau([]) == {}\n",
    "    print(\"Test de la fonction dico_reseau: OK\")\n",
    "test_dico_reseau() #Appel de la fonction qui teste dico_reseau\n",
    "\n",
    "print(\"Fin\")   "
   ]
  },
  {
   "cell_type": "markdown",
   "metadata": {
    "deletable": false,
    "editable": false,
    "run_control": {
     "frozen": true
    }
   },
   "source": [
    "#### Question 5 : Nombre d'amis des personnes les plus populaires\n",
    "\n",
    "- A partir d'un dictionnaire `dico_reseau` modélisant les interactions dans un réseau d'amis, écrire une fonction `nb_amis_plus_pop (dico_reseau)` qui retourne le nombre d'amis des personnes les plus populaires du réseau."
   ]
  },
  {
   "cell_type": "code",
   "execution_count": 110,
   "metadata": {},
   "outputs": [
    {
     "name": "stdout",
     "output_type": "stream",
     "text": [
      "Test de nb_amis_plus_pop: OK\n",
      "Fin\n"
     ]
    }
   ],
   "source": [
    "def nb_amis_plus_pop(dico_reseau):\n",
    "    \"\"\"\n",
    "    Cette fonction retourne le nombre d'amis des personnes ayant le plus d'amis \n",
    "    (celles dont la longueur du tableau associé est la plus grande)\n",
    "    \n",
    "    Arguments:\n",
    "    \n",
    "    * dico_reseau: dictionnaire modélisant les intéractions dans un réseau d'amis (dict).\n",
    "    les clés correspondent au prénom d'une personne du réseau d'amis\n",
    "    les valeurs correspondent au tableau d'amis de la personne clé\n",
    "    \"\"\"\n",
    "    maximum = 0 \n",
    "    cles = list(dico_reseau) #Tableau des prénoms clé du dictionnaire\n",
    "    \n",
    "    i = 0\n",
    "    while i < len(cles): #On parcourt cles\n",
    "        if maximum < len(dico_reseau[cles[i]]): #On compare la longueur du tableau associé à clé, à la variable maximum\n",
    "            maximum = len(dico_reseau[cles[i]]) #maximum sauvegarde la plus grande longueur de tableau\n",
    "        i += 1\n",
    "    return maximum #On retourne la plus grande longueur de tableau trouvée dans le dictionnaire\n",
    "\n",
    "\n",
    "#Tests unitaires:\n",
    "\n",
    "dico1 = dico_reseau(amis)\n",
    "dico2 = dico_reseau(p_amis)\n",
    "\n",
    "def test_nb_amis_plus_pop():\n",
    "    assert nb_amis_plus_pop(dico1) == 2\n",
    "    assert nb_amis_plus_pop(dico2) == 5\n",
    "    assert nb_amis_plus_pop({\"Lilien\": []}) == 0\n",
    "    print(\"Test de nb_amis_plus_pop: OK\")\n",
    "test_nb_amis_plus_pop() #Appel de la fonction de test de nb_amis_plus_pop\n",
    "\n",
    "print(\"Fin\")"
   ]
  },
  {
   "cell_type": "markdown",
   "metadata": {
    "deletable": false,
    "editable": false,
    "run_control": {
     "frozen": true
    }
   },
   "source": [
    "#### Question 6 : Personnes les plus populaires\n",
    "\n",
    "- A partir d'un dictionnaire `dico_reseau` modélisant les interactions dans un réseau d'amis, écrire une fonction `les_plus_pop (dico_reseau)` qui retourne un tableau contenant les prénoms de toutes les personnes les plus populaires du réseau."
   ]
  },
  {
   "cell_type": "code",
   "execution_count": 111,
   "metadata": {},
   "outputs": [
    {
     "name": "stdout",
     "output_type": "stream",
     "text": [
      "Test de les_plus_pop: OK\n",
      "Fin\n"
     ]
    }
   ],
   "source": [
    "def les_plus_pop(dico_reseau):\n",
    "    \"\"\"\n",
    "    Cette fonction retourne le tableau des personnes les plus populaires du réseau\n",
    "    \n",
    "    Arguments:\n",
    "    \n",
    "    * dico_reseau: dictionnaire modélisant les intéractions dans un réseau d'amis (dict).\n",
    "    les clés correspondent au prénom d'une personne du réseau d'amis\n",
    "    les valeurs correspondent au tableau d'amis de la personne clé\n",
    "    \"\"\"\n",
    "    tab = [] #Création du tableau à retourner\n",
    "    cles = list(dico_reseau) #On sauvegarde le tableau des clés de dico_reseau\n",
    "    if nb_amis_plus_pop(dico_reseau) == 0:\n",
    "            return []\n",
    "    i = 0\n",
    "    while i < len(cles): #On parcourt cles\n",
    "        if len(dico_reseau[cles[i]]) == nb_amis_plus_pop(dico_reseau): #On vérifie que la personne concernée \n",
    "                                                            #a bien le nombre d'amis maximum du réseau\n",
    "                                                            #On utilise la fonction nb_amis_plus_pop\n",
    "            tab.append(cles[i]) #On ajoute la personne cles[i] à tab\n",
    "        i += 1\n",
    "    return tab #On retourne le tableau obtenu\n",
    "\n",
    "#Tests unitaires:\n",
    "amis = [\"Alice\", \"Bob\", \"Alice\", \"Charlie\", \"Bob\", \"Denis\"]\n",
    "p_amis = [\"Joël\",\"Muriel\",\"Joël\",\"Yasmine\",\"Joël\",\"Nassim\",\"Joël\",\"Andrea\",\"Joël\",\"Ali\",\"Andrea\",\"Nassim\",\"Andrea\",\"Ali\",\"Andrea\",\"Valentin\",\"Yasmine\",\"Muriel\",\"Yasmine\",\"Thomas\",\"Daria\",\"Thomas\",\"Carole\",\"Thomas\",\"Nassim\",\"Ali\",\"Léo\",\"Thierry\",\"Léo\",\"Axel\",\"Léo\",\"Valentin\",\"Thierry\",\"Axel\"]\n",
    "dico1 = dico_reseau(amis)\n",
    "dico2 = dico_reseau(p_amis)\n",
    "\n",
    "def test_les_plus_pop():\n",
    "    assert les_plus_pop(dico1) == ['Alice', 'Bob']\n",
    "    assert les_plus_pop(dico2) == [\"Joël\"]\n",
    "    assert les_plus_pop({\"Lilien\": []}) == []\n",
    "    assert les_plus_pop({}) == []\n",
    "    print(\"Test de les_plus_pop: OK\")\n",
    "test_les_plus_pop()#Appel de la fonction de test de les_plus_pop\n",
    "\n",
    "print(\"Fin\")"
   ]
  }
 ],
 "metadata": {
  "kernelspec": {
   "display_name": "Python 3 (ipykernel)",
   "language": "python",
   "name": "python3"
  },
  "language_info": {
   "codemirror_mode": {
    "name": "ipython",
    "version": 3
   },
   "file_extension": ".py",
   "mimetype": "text/x-python",
   "name": "python",
   "nbconvert_exporter": "python",
   "pygments_lexer": "ipython3",
   "version": "3.10.6"
  },
  "latex_envs": {
   "LaTeX_envs_menu_present": true,
   "autoclose": false,
   "autocomplete": true,
   "bibliofile": "biblio.bib",
   "cite_by": "apalike",
   "current_citInitial": 1,
   "eqLabelWithNumbers": true,
   "eqNumInitial": 1,
   "hotkeys": {
    "equation": "Ctrl-E",
    "itemize": "Ctrl-I"
   },
   "labels_anchors": false,
   "latex_user_defs": false,
   "report_style_numbering": false,
   "user_envs_cfg": false
  }
 },
 "nbformat": 4,
 "nbformat_minor": 2
}
